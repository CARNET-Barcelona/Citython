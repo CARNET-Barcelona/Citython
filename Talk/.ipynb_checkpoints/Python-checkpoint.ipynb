{
 "cells": [
  {
   "cell_type": "markdown",
   "metadata": {},
   "source": [
    "## Python"
   ]
  },
  {
   "cell_type": "markdown",
   "metadata": {},
   "source": [
    "Import the libraries that we are going to use"
   ]
  },
  {
   "cell_type": "code",
   "execution_count": 1,
   "metadata": {},
   "outputs": [],
   "source": [
    "import pandas as pd\n",
    "import matplotlib.pyplot as plt\n",
    "import seaborn as sns"
   ]
  },
  {
   "cell_type": "markdown",
   "metadata": {},
   "source": [
    "## Adding the data"
   ]
  },
  {
   "cell_type": "code",
   "execution_count": 2,
   "metadata": {},
   "outputs": [],
   "source": [
    "df = pd.read_csv('density.csv')"
   ]
  },
  {
   "cell_type": "markdown",
   "metadata": {},
   "source": [
    "At this point is a good idea to **check** the information, this way we will know if the process has been done correctly and we will have an idea of the structure of the dataset "
   ]
  },
  {
   "cell_type": "code",
   "execution_count": 3,
   "metadata": {},
   "outputs": [
    {
     "data": {
      "text/html": [
       "<div>\n",
       "<style scoped>\n",
       "    .dataframe tbody tr th:only-of-type {\n",
       "        vertical-align: middle;\n",
       "    }\n",
       "\n",
       "    .dataframe tbody tr th {\n",
       "        vertical-align: top;\n",
       "    }\n",
       "\n",
       "    .dataframe thead th {\n",
       "        text-align: right;\n",
       "    }\n",
       "</style>\n",
       "<table border=\"1\" class=\"dataframe\">\n",
       "  <thead>\n",
       "    <tr style=\"text-align: right;\">\n",
       "      <th></th>\n",
       "      <th>OID1</th>\n",
       "      <th>C_Distri_2</th>\n",
       "      <th>N_Distric</th>\n",
       "      <th>C_Neighbou</th>\n",
       "      <th>Neighbou_1</th>\n",
       "      <th>Man_1</th>\n",
       "      <th>Women_1</th>\n",
       "      <th>Total_1</th>\n",
       "      <th>Area_km2_1</th>\n",
       "      <th>Pop_dens_1</th>\n",
       "      <th>WEB_45</th>\n",
       "      <th>Household1</th>\n",
       "    </tr>\n",
       "  </thead>\n",
       "  <tbody>\n",
       "    <tr>\n",
       "      <th>0</th>\n",
       "      <td>0.0</td>\n",
       "      <td>1</td>\n",
       "      <td>Ciutat Vella</td>\n",
       "      <td>1</td>\n",
       "      <td>el Raval</td>\n",
       "      <td>26553.0</td>\n",
       "      <td>21850.0</td>\n",
       "      <td>48403.0</td>\n",
       "      <td>1.098393</td>\n",
       "      <td>44067.108766</td>\n",
       "      <td>http://www.bcn.cat/estadistica/catala/dades/in...</td>\n",
       "      <td>74.6</td>\n",
       "    </tr>\n",
       "    <tr>\n",
       "      <th>1</th>\n",
       "      <td>1.0</td>\n",
       "      <td>1</td>\n",
       "      <td>Ciutat Vella</td>\n",
       "      <td>2</td>\n",
       "      <td>el Barri Gòtic</td>\n",
       "      <td>8368.0</td>\n",
       "      <td>7508.0</td>\n",
       "      <td>15876.0</td>\n",
       "      <td>0.841905</td>\n",
       "      <td>18857.232750</td>\n",
       "      <td>http://www.bcn.cat/estadistica/catala/dades/in...</td>\n",
       "      <td>110.5</td>\n",
       "    </tr>\n",
       "    <tr>\n",
       "      <th>2</th>\n",
       "      <td>2.0</td>\n",
       "      <td>1</td>\n",
       "      <td>Ciutat Vella</td>\n",
       "      <td>3</td>\n",
       "      <td>la Barceloneta</td>\n",
       "      <td>7581.0</td>\n",
       "      <td>7631.0</td>\n",
       "      <td>15212.0</td>\n",
       "      <td>1.313868</td>\n",
       "      <td>11578.027776</td>\n",
       "      <td>http://www.bcn.cat/estadistica/catala/dades/in...</td>\n",
       "      <td>84.8</td>\n",
       "    </tr>\n",
       "    <tr>\n",
       "      <th>3</th>\n",
       "      <td>3.0</td>\n",
       "      <td>1</td>\n",
       "      <td>Ciutat Vella</td>\n",
       "      <td>4</td>\n",
       "      <td>Sant Pere, Santa Caterina i la Ribera</td>\n",
       "      <td>11466.0</td>\n",
       "      <td>11390.0</td>\n",
       "      <td>22856.0</td>\n",
       "      <td>1.114299</td>\n",
       "      <td>20511.553762</td>\n",
       "      <td>http://www.bcn.cat/estadistica/catala/dades/in...</td>\n",
       "      <td>97.8</td>\n",
       "    </tr>\n",
       "    <tr>\n",
       "      <th>4</th>\n",
       "      <td>4.0</td>\n",
       "      <td>2</td>\n",
       "      <td>Eixample</td>\n",
       "      <td>5</td>\n",
       "      <td>el Fort Pienc</td>\n",
       "      <td>15039.0</td>\n",
       "      <td>16924.0</td>\n",
       "      <td>31963.0</td>\n",
       "      <td>0.928901</td>\n",
       "      <td>34409.477864</td>\n",
       "      <td>http://www.bcn.cat/estadistica/catala/dades/in...</td>\n",
       "      <td>105.0</td>\n",
       "    </tr>\n",
       "  </tbody>\n",
       "</table>\n",
       "</div>"
      ],
      "text/plain": [
       "   OID1  C_Distri_2     N_Distric  C_Neighbou  \\\n",
       "0   0.0           1  Ciutat Vella           1   \n",
       "1   1.0           1  Ciutat Vella           2   \n",
       "2   2.0           1  Ciutat Vella           3   \n",
       "3   3.0           1  Ciutat Vella           4   \n",
       "4   4.0           2      Eixample           5   \n",
       "\n",
       "                              Neighbou_1    Man_1  Women_1  Total_1  \\\n",
       "0                               el Raval  26553.0  21850.0  48403.0   \n",
       "1                         el Barri Gòtic   8368.0   7508.0  15876.0   \n",
       "2                         la Barceloneta   7581.0   7631.0  15212.0   \n",
       "3  Sant Pere, Santa Caterina i la Ribera  11466.0  11390.0  22856.0   \n",
       "4                          el Fort Pienc  15039.0  16924.0  31963.0   \n",
       "\n",
       "   Area_km2_1    Pop_dens_1  \\\n",
       "0    1.098393  44067.108766   \n",
       "1    0.841905  18857.232750   \n",
       "2    1.313868  11578.027776   \n",
       "3    1.114299  20511.553762   \n",
       "4    0.928901  34409.477864   \n",
       "\n",
       "                                              WEB_45  Household1  \n",
       "0  http://www.bcn.cat/estadistica/catala/dades/in...        74.6  \n",
       "1  http://www.bcn.cat/estadistica/catala/dades/in...       110.5  \n",
       "2  http://www.bcn.cat/estadistica/catala/dades/in...        84.8  \n",
       "3  http://www.bcn.cat/estadistica/catala/dades/in...        97.8  \n",
       "4  http://www.bcn.cat/estadistica/catala/dades/in...       105.0  "
      ]
     },
     "execution_count": 3,
     "metadata": {},
     "output_type": "execute_result"
    }
   ],
   "source": [
    "df.head()"
   ]
  },
  {
   "cell_type": "markdown",
   "metadata": {},
   "source": [
    "## Start the processing"
   ]
  },
  {
   "cell_type": "markdown",
   "metadata": {},
   "source": [
    "For example we can think how many neightbours we have in every district"
   ]
  },
  {
   "cell_type": "code",
   "execution_count": 27,
   "metadata": {},
   "outputs": [
    {
     "name": "stdout",
     "output_type": "stream",
     "text": [
      "Nou Barris             13\n",
      "Horta-Guinardó         11\n",
      "Sant Martí             10\n",
      "Sants-Montjuïc          8\n",
      "Sant Andreu             7\n",
      "Eixample                6\n",
      "Sarrià-Sant Gervasi     6\n",
      "Gràcia                  5\n",
      "Ciutat Vella            4\n",
      "Les Corts               3\n",
      "Name: N_Distric, dtype: int64\n"
     ]
    }
   ],
   "source": [
    "print(df['N_Distric'].value_counts())"
   ]
  },
  {
   "cell_type": "code",
   "execution_count": 45,
   "metadata": {},
   "outputs": [
    {
     "data": {
      "image/png": "[encoded data removed]",
      "text/plain": [
       "<Figure size 1440x720 with 1 Axes>"
      ]
     },
     "metadata": {},
     "output_type": "display_data"
    }
   ],
   "source": [
    "ne_dis = df['N_Distric'].value_counts()\n",
    "\n",
    "plt.figure(figsize=(20, 10))\n",
    "sns.barplot(y=ne_dis.index.values, x=ne_dis.values, order=ne_dis.index)\n",
    "plt.title('Number of neighbours in each district in Barcelona')\n",
    "plt.xlabel('Number of neighbours')\n",
    "plt.show()"
   ]
  },
  {
   "cell_type": "markdown",
   "metadata": {},
   "source": []
  },
  {
   "cell_type": "code",
   "execution_count": null,
   "metadata": {},
   "outputs": [],
   "source": []
  }
 ],
 "metadata": {
  "kernelspec": {
   "display_name": "Python 3",
   "language": "python",
   "name": "python3"
  },
  "language_info": {
   "codemirror_mode": {
    "name": "ipython",
    "version": 3
   },
   "file_extension": ".py",
   "mimetype": "text/x-python",
   "name": "python",
   "nbconvert_exporter": "python",
   "pygments_lexer": "ipython3",
   "version": "3.6.5"
  }
 },
 "nbformat": 4,
 "nbformat_minor": 2
}
